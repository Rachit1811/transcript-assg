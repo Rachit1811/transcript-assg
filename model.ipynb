{
 "cells": [
  {
   "cell_type": "code",
   "execution_count": 49,
   "metadata": {
    "dotnet_interactive": {
     "language": "csharp"
    },
    "polyglot_notebook": {
     "kernelName": "csharp"
    }
   },
   "outputs": [
    {
     "name": "stdout",
     "output_type": "stream",
     "text": [
      "Generation complete\n"
     ]
    }
   ],
   "source": [
    "import requests\n",
    "import json\n",
    "from dotenv import load_dotenv\n",
    "import os\n",
    "\n",
    "load_dotenv()\n",
    "API_KEY = os.getenv(\"OPENROUTER_API_KEY\")\n",
    "\n",
    "API_URL = \"https://openrouter.ai/api/v1/chat/completions\"\n",
    "\n",
    "def read_file(filename):\n",
    "    with open(filename, \"r\", encoding=\"utf-8\") as f:\n",
    "        return f.read()\n",
    "\n",
    "# Read transcript and prompt\n",
    "transcript = read_file(\"transcript.txt\")\n",
    "prompt = read_file(\"prompt.txt\")\n",
    "\n",
    "# Combine them into final input\n",
    "final_prompt = f\"{prompt}\\n\\n{transcript}\"\n",
    "\n",
    "headers = {\n",
    "    \"Authorization\": f\"Bearer {API_KEY}\",\n",
    "    \"Content-Type\": \"application/json\"\n",
    "}\n",
    "\n",
    "data = {\n",
    "    \"model\": \"deepseek/deepseek-r1:free\",\n",
    "    \"messages\": [{\"role\": \"user\", \"content\": final_prompt}]\n",
    "}\n",
    "\n",
    "response = requests.post(API_URL, headers=headers, json=data)\n",
    "\n",
    "print(\"Generation complete\")\n"
   ]
  },
  {
   "cell_type": "code",
   "execution_count": 50,
   "metadata": {},
   "outputs": [
    {
     "name": "stdout",
     "output_type": "stream",
     "text": [
      "Okay, let's dive into this transcript and figure out the scores for each parameter. Starting with Ideal Customer Profile Fitment. The criteria for a score of 2 include the company selling over 50 cars/month, being in the automotive industry, and the lead being a key decision-maker. The transcript mentions Milano's company sells around 40-50 cars a month (Milano says \"forty fifty a month\"), which is borderline. However, he's the chairman of the European council and vice chairman Ci, which sounds like a high authority role. The industry is automotive since they use a DMS and list on Auto Trader. So that's a score of 2.\n",
      "\n",
      "Moving to Need and Timing. The lead has identified that their current process involves manual image uploads, and they want better exposure to sell cars. There's mention of wanting to act soon, as Milano says he'll do research and get back by Monday. But the urgency isn't clearly within 2 months, and they're still comparing with competitors like Big Motoring World. So maybe a score of 1 here.\n",
      "\n",
      "For Budget and Authority, Milano has full authority as chairman and mentions considering a one-year contract. They discuss pricing and volume discounts, though the exact budget isn't confirmed yet. Since he has authority and is negotiating, score 2 fits here.\n",
      "1. **Ideal Customer Profile Fitment (Score 2)**  \n",
      "   - **Instances from Transcript**:  \n",
      "     - \"Sells more than 50 cars/month\": Milano mentions selling \"forty fifty a month,\" which may slightly cross/approach the threshold.  \n",
      "     - The lead is a key decision-maker: Milano states, \"I'm chairman for europe... vice Chairman Ci\" and influences dealerships across the UK/EU.  \n",
      "     - Lead is actively involved in automotive dealership: References DMS integration, Auto Trader listings, and direct involvement in dealership operations.  \n",
      "\n",
      "2. **Need and Timing (Score 1)**  \n",
      "   - **Instances**:  \n",
      "     - **Pain points**: Current process involves manual image uploads (\"upload it up to the app\") and outdated three-sixty imaging (\"We have that cameras not working\"). Desire for streamlined exposure to \"sell more cars.\"  \n",
      "     - **Low urgency**: Interested but requires research (\"I need to do some research guys... call you back\") and competitor benchmarking (\"look at your platform or big motion world\"). No explicit timeline within 2 months.  \n",
      "\n",
      "3. **Budget and Authority (Score 2)**  \n",
      "   - **Instances**:  \n",
      "     - **Full authority**: Milano confirms decision-making power (\"I’m chairman... we are a business... got ten other Sac and X as well\").  \n",
      "     - **Budget alignment**: Negotiates pricing (\"volume-based pricing... drop the price even further\") and mentions a \"year-long contract\" intent. Directly reviews costs (\"seven times eighty... five hundred and sixty pounds a month\").  \n",
      "\n",
      "---  \n",
      "**Key Gaps**:  \n",
      "- **Need and Timing** lacks definitive urgency (no commitment within 2 months) and relies on post-research action.  \n",
      "- Sales volume (\"forty fifty a month\") teeters near the ICP threshold but is validated by authority/industry fit.\n"
     ]
    }
   ],
   "source": [
    "try:\n",
    "    print(response.json().get(\"choices\", [])[0].get(\"message\", {}).get(\"content\", \"No content found\"))\n",
    "except Exception as e:\n",
    "    print(\"Error:\", e)"
   ]
  }
 ],
 "metadata": {
  "kernelspec": {
   "display_name": "venv",
   "language": "python",
   "name": "python3"
  },
  "language_info": {
   "codemirror_mode": {
    "name": "ipython",
    "version": 3
   },
   "file_extension": ".py",
   "mimetype": "text/x-python",
   "name": "python",
   "nbconvert_exporter": "python",
   "pygments_lexer": "ipython3",
   "version": "3.11.4"
  },
  "polyglot_notebook": {
   "kernelInfo": {
    "defaultKernelName": "csharp",
    "items": [
     {
      "aliases": [],
      "name": "csharp"
     }
    ]
   }
  }
 },
 "nbformat": 4,
 "nbformat_minor": 2
}
